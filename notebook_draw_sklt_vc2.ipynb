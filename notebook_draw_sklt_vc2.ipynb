{
 "cells": [
  {
   "cell_type": "code",
   "execution_count": 23,
   "id": "HB7TkHMR3iMG",
   "metadata": {
    "colab": {
     "base_uri": "https://localhost:8080/"
    },
    "id": "HB7TkHMR3iMG",
    "outputId": "b0d3f736-ca63-4320-a230-f19b0fcef0a0"
   },
   "outputs": [
    {
     "name": "stdout",
     "output_type": "stream",
     "text": [
      "Requirement already satisfied: numpngw in d:\\anaconda\\lib\\site-packages (0.1.0)\n",
      "Requirement already satisfied: numpy>=1.6.0 in d:\\anaconda\\lib\\site-packages (from numpngw) (1.20.1)\n"
     ]
    }
   ],
   "source": [
    "!pip3 install numpngw"
   ]
  },
  {
   "cell_type": "code",
   "execution_count": 24,
   "id": "yAYWhrCU3eZO",
   "metadata": {
    "colab": {
     "base_uri": "https://localhost:8080/"
    },
    "id": "yAYWhrCU3eZO",
    "outputId": "78880680-b8d8-4ab1-c9c3-c2fc8100230e"
   },
   "outputs": [],
   "source": [
    "# from google.colab import drive\n",
    "# from google.colab import output\n",
    "# drive.mount('/content/gdrive')"
   ]
  },
  {
   "cell_type": "code",
   "execution_count": 25,
   "id": "c-EdE25J3o48",
   "metadata": {
    "colab": {
     "base_uri": "https://localhost:8080/"
    },
    "id": "c-EdE25J3o48",
    "outputId": "baa6aa68-e62f-473d-eda3-fe7fad130110"
   },
   "outputs": [],
   "source": [
    "# colab_path = \"/content/gdrive/My Drive/Colab Notebooks/\"\n",
    "\n",
    "# # Repository compile\n",
    "# %cd $colab_path"
   ]
  },
  {
   "cell_type": "code",
   "execution_count": 26,
   "id": "316f5f6a",
   "metadata": {
    "id": "316f5f6a"
   },
   "outputs": [],
   "source": [
    "import cv2\n",
    "import json\n",
    "import numpy as np\n",
    "import imutils\n",
    "import sys\n",
    "import time\n",
    "import json\n",
    "import matplotlib\n",
    "import matplotlib.pyplot as plt\n",
    "import numpy as np\n",
    "import math\n",
    "from lib.utils.common_draw_skeletons_ok import Human, BodyPart, CocoPart,CocoColors_pairs_vc,CocoColors_pairs_kn,CocoColors_parts_vc,CocoColors_parts_kn,CocoColors_pairs,CocoColors_parts \n"
   ]
  },
  {
   "cell_type": "code",
   "execution_count": 27,
   "id": "2ae1fa33",
   "metadata": {
    "id": "2ae1fa33"
   },
   "outputs": [],
   "source": [
    "#initialize jobs\n",
    "attrs=[]\n",
    "path_openpose='../Skeleton_Openpose/cacheTete/sub01_trial01/VideoColor_Correct0.txt'\n",
    "path_kinect='../Skeleton_Kinect/cacheTete/sub01_trial01/SkeletonKinect_Correct0.txt'\n",
    "# path_vicon='../Skeleton_Vicon/cacheTete/sub01_trial01/SkeletonVicon_Correct0.txt'\n",
    "height=300\n",
    "width=500\n",
    "size=(width,height)\n",
    "image_w=width\n",
    "image_h=height\n",
    "images=[]\n",
    "\n",
    "\n",
    "#read Json openpose file\n",
    "def read_json(path):\n",
    "    with open(path,'r') as f:\n",
    "        data=f.read()\n",
    "        for i in Body_parts_1:\n",
    "            data=data.replace(i,str(Body_parts_1[i]))\n",
    "        json_object=json.loads(data)\n",
    "    return json_object"
   ]
  },
  {
   "cell_type": "code",
   "execution_count": 28,
   "id": "9fade337",
   "metadata": {
    "id": "9fade337"
   },
   "outputs": [],
   "source": [
    "def euler_from_quaternion(x, y, z, w):\n",
    "        \"\"\"\n",
    "        Convert a quaternion into euler angles (roll, pitch, yaw)\n",
    "        roll is rotation around x in radians (counterclockwise)\n",
    "        pitch is rotation around y in radians (counterclockwise)\n",
    "        yaw is rotation around z in radians (counterclockwise)\n",
    "        \"\"\"\n",
    "        t0 = +2.0 * (w * x + y * z)\n",
    "        t1 = +1.0 - 2.0 * (x * x + y * y)\n",
    "        roll_x = math.atan2(t0, t1)\n",
    "     \n",
    "        t2 = +2.0 * (w * y - z * x)\n",
    "        t2 = +1.0 if t2 > +1.0 else t2\n",
    "        t2 = -1.0 if t2 < -1.0 else t2\n",
    "        pitch_y = math.asin(t2)\n",
    "     \n",
    "        t3 = +2.0 * (w * z + x * y)\n",
    "        t4 = +1.0 - 2.0 * (y * y + z * z)\n",
    "        yaw_z = math.atan2(t3, t4)\n",
    "     \n",
    "        return [roll_x,pitch_y,yaw_z]"
   ]
  },
  {
   "cell_type": "code",
   "execution_count": 29,
   "id": "48175aa5",
   "metadata": {
    "id": "48175aa5"
   },
   "outputs": [],
   "source": [
    "#Draw human skeleton function for openpose \n",
    "def draw_humans_openpose(npimg, humans):\n",
    "    \n",
    "    image_h, image_w = npimg.shape[:2]\n",
    "    #print(image_h, image_w)\n",
    "    \n",
    "    centers = {}\n",
    "    human_keys=list(map(int, humans.keys()))\n",
    "    #print(human_keys)\n",
    "    \n",
    "    \n",
    "    # draw point\n",
    "    for i in range(CocoPart.Background.value):\n",
    "            if i not in human_keys:\n",
    "                #print (i)\n",
    "                #print('no')\n",
    "                continue\n",
    "            \n",
    "            body_part = sklt[str(i)]\n",
    "            #print(body_part)\n",
    "            \n",
    "            center = (int(body_part[0] * image_w - 40), int(body_part[1] * image_h + 0.5))\n",
    "            centers[i] = center\n",
    "            #print(center)\n",
    "            \n",
    "            cv2.circle(npimg, center, 3, CocoColors_parts[i], thickness=2, lineType=8, shift=0)\n",
    "\n",
    "        # draw line\n",
    "    for pair_order, pair in enumerate(CocoPairsRender):\n",
    "            #print(pair_order, pair[1])\n",
    "            \n",
    "            if pair[0] not in human_keys or pair[1] not in human_keys:\n",
    "                continue\n",
    "            #print(pair, centers[pair[0]], centers[pair[1]], CocoColors_pairs[pair])\n",
    "            cv2.line(npimg, centers[pair[0]], centers[pair[1]], CocoColors_pairs[pair], 2)\n",
    "\n",
    "    return npimg"
   ]
  },
  {
   "cell_type": "code",
   "execution_count": 30,
   "id": "b399f0e3",
   "metadata": {
    "id": "b399f0e3"
   },
   "outputs": [],
   "source": [
    "#Draw human skeleton function for Kinect\n",
    "def draw_humans_kinect(npimg, humans):\n",
    "\n",
    "    image_h, image_w = npimg.shape[:2]\n",
    "    #print(image_h, image_w)\n",
    "    \n",
    "    centers = {}\n",
    "    human_keys=list(map(int, humans.keys()))\n",
    "    #print(human_keys)\n",
    "   \n",
    "    # draw point\n",
    "    for i in range(CocoPart.Background.value):\n",
    "            if i not in human_keys:\n",
    "                #print (i)\n",
    "                #print('no')\n",
    "                continue\n",
    "            \n",
    "            body_part = sklt[str(i)]\n",
    "            #print(body_part)\n",
    "            #print(type(body_part[0]))\n",
    "            #print(type(body_part[1]))\n",
    "            #print(image_w)\n",
    "            #print(image_h)\n",
    "            center = (int((float(body_part[0]) * image_w + 200)/3.5+250), int((float(body_part[1]) * image_h + 200)/3.5+100))\n",
    "            centers[i] = center\n",
    "            #print(center)\n",
    "            \n",
    "            cv2.circle(npimg, center, 3, CocoColors_parts_kn[i], thickness=2, lineType=8, shift=0)\n",
    "            \n",
    "        # draw line\n",
    "    \n",
    "    #print(enumerate(CocoPairsRender_kn))\n",
    "    for pair_order, pair in enumerate(CocoPairsRender_kn):\n",
    "            #print(pair_order, pair[1])\n",
    "            #print(pair)\n",
    "            \n",
    "            if pair[0] not in human_keys or pair[1] not in human_keys:\n",
    "                continue\n",
    "            #print(centers[pair[0]], centers[pair[1]], CocoColors_pairs_kn[pair])\n",
    "            cv2.line(npimg, centers[pair[0]], centers[pair[1]], CocoColors_pairs_kn[pair], 2)\n",
    "\n",
    "    return npimg\n"
   ]
  },
  {
   "cell_type": "code",
   "execution_count": 31,
   "id": "934658f0",
   "metadata": {
    "id": "934658f0"
   },
   "outputs": [],
   "source": [
    "#Draw human skeleton function for Vicon \n",
    "def draw_vicon_3d(i):\n",
    "    fig = plt.figure()\n",
    "    #ax = fig.add_subplot(projection='3d')\n",
    "    ax = plt.axes(projection='3d')\n",
    "    X=[]\n",
    "    Y=[]\n",
    "    Z=[]\n",
    "    for j in range(0,len(openpose_coord_vc['positions'][str(float(i))])):\n",
    "        #print(str(i))\n",
    "                pos_head=openpose_coord_vc['positions'][str(float(i))][str(0)]\n",
    "                param_x=0.5*image_w-float(pos_head[0])\n",
    "                param_y=0.5*image_h-float(pos_head[1])\n",
    "                md_pt=openpose_coord_vc['positions'][str(float(i))][str(j)]\n",
    "                #X.append(float(md_pt[0])*image_w/600-param_x)\n",
    "                #Y.append(float(md_pt[1])*image_h/600-param_y)\n",
    "                X.append(float(md_pt[0])*image_w/600)\n",
    "                Y.append(float(md_pt[1])*image_h/600-image_h)\n",
    "                Z.append(float(md_pt[2])/600)\n",
    "\n",
    "    res=euler_from_quaternion(float(md_pt[3]),float(md_pt[4]),float(md_pt[5]),float(md_pt[6]))\n",
    "    ax.scatter3D(X, Y, Z, color=(0,1,0) ,s=53 ,marker='o')\n",
    "    ax.set_facecolor('xkcd:black')\n",
    "    ax.set_ylim3d(-400,400)\n",
    "    #ax.set_xlim3d(30,400)\n",
    "    ax.set_xlim3d(-200,800)\n",
    "    \n",
    "    #ax.set_zlim3d(-40,40)\n",
    "    for pair in CocoPairs_vc:\n",
    "        X_pair=[X[pair[0]],X[pair[1]]]\n",
    "        Y_pair=[Y[pair[0]],Y[pair[1]]]\n",
    "        Z_pair=[Z[pair[0]],Z[pair[1]]]\n",
    "        ax.plot(X_pair,Y_pair,Z_pair,color='green',linewidth=5)\t\n",
    "    ax.view_init(res[1], res[0])\n",
    "    plt.grid(b=None)\n",
    "    plt.axis('off')\n",
    "    plt.subplots_adjust(bottom=0.01)\n",
    "    fig.canvas.draw()\n",
    "    img = np.fromstring(fig.canvas.tostring_rgb(), dtype=np.uint8,sep='')\n",
    "    img  = img.reshape(fig.canvas.get_width_height()[::-1] + (3,))\n",
    "    img = cv2.cvtColor(img,cv2.COLOR_RGB2BGR)\n",
    "    img[np.where((img==[255,255,255]).all(axis=2))] = [0,0,0]\n",
    "    return img"
   ]
  },
  {
   "cell_type": "code",
   "execution_count": 32,
   "id": "a1980b13",
   "metadata": {
    "colab": {
     "base_uri": "https://localhost:8080/"
    },
    "id": "a1980b13",
    "outputId": "70c8dccb-67ae-4b4d-9798-a71309a2eee8"
   },
   "outputs": [
    {
     "name": "stdout",
     "output_type": "stream",
     "text": [
      "start vicon\n"
     ]
    }
   ],
   "source": [
    "#cocopairs for openpose\t\n",
    "CocoPairs = [\n",
    "    (1, 2), (1, 5), (2, 3), (3, 4), (5, 6), (6, 7), (1, 8), (8, 9), (9, 10), (1, 11),\n",
    "    (11, 12), (12, 13), (1, 0), (0, 14), (14, 16), (0, 15), (15, 17), (2, 16), (5, 17)\n",
    "]   \n",
    "CocoPairsRender = CocoPairs[:-2] \n",
    "\n",
    "Body_parts_0={0:'Head',1:'mShoulder',2:'rShoulder',3:'rElbow',4:'rWrist',5:'lShoulder',6:'lElbow',7:'lWrist',8:'rHip',9:'rKnee',10:'rAnkle',11:'lHip',12:'lKnee',13:'lAnkle',14:'rEye', 15:'lEye',16:'rEar', 17:'lEar'}\n",
    "Body_parts_1={'Head':0 ,'mShoulder':1 ,'rShoulder':2, 'rElbow':3, 'rWrist':4, 'lShoulder':5,'lElbow':6,'lWrist':7,'rHip':8,'rKnee':9,'rAnkle':10,'lHip':11,'lKnee':12,'lAnkle':13,'rEye':14, 'lEye':15,'rEar':16, 'lEar':17  }\n",
    "\n",
    "\n",
    "\n",
    "########################Prepare Skeletons data#################################\n",
    "#Read openpose Json file\n",
    "openpose_coord=read_json(path_openpose)\n",
    "\n",
    "#read Kinect txt file and map it to the correct json format\n",
    "with open(path_kinect,'r') as f:\n",
    "    data=f.read().splitlines()\n",
    "\n",
    "\n",
    "tab={}\n",
    "tab1={}\n",
    "tab1['positions']=tab\n",
    "data1={'positions':{}}\n",
    "\n",
    "Body_parts_0={0:'Head',1:'mShoulder',2:'rShoulder',3:'rElbow',4:'rWrist',5:'lShoulder',6:'lElbow',7:'lWrist',8:'rHip',9:'rKnee',10:'rAnkle',11:'lHip',12:'lKnee',13:'lAnkle',14:'rEye', 15:'lEye',16:'rEar', 17:'lEar'}\n",
    "\n",
    "Body_parts_kinect={0: 'SpineBase' ,1: 'SpineMid',2: 'Neck',3: 'Head',4: 'ShoulderLeft',5: 'ElbowLeft',6: 'WristLeft',7: 'HandLeft',8: 'ShoulderRight',9: 'ElbowRight',10: 'WristRight',11: 'HandRight',12: 'HipLeft',13: 'KneeLeft',14: 'AnkleLeft',15: 'FootLeft',16: 'HipRight',17: 'KneeRight',18: 'AnkleRight',19: 'FootRight',20: 'SpineShoulder',21: 'HandTipLeft',22: 'ThumbLeft',23: 'HandTipRight',24: 'ThumbRight'}\n",
    "\n",
    "line=0\n",
    "for i in data:\n",
    "    line=line+1\n",
    "    tab[str(float(line))]={}\n",
    "    for n in range(25):\n",
    "        first=i.split(' ')[7*n:7*(n+1)]\n",
    "        first1={str(n):[first[0],first[1]]}\n",
    "        tab[str(float(line))].update(first1)\n",
    "openpose_coord_kn=tab1\n",
    "\n",
    "\n",
    "#read Vicon txt file and map it to the correct json format\n",
    "tab_vc={}\n",
    "tab1_vc={}\n",
    "tab1_vc['positions']=tab_vc\n",
    "\n",
    "\n",
    "data1_vc={'positions':{}}\n",
    "data_vc_filtred=[]\n",
    "with open(path_vicon,'r') as w:\n",
    "    data_vc=w.read().splitlines()\n",
    "    for j in range(0,len(data_vc)):\n",
    "        if j%2==0:\n",
    "            data_vc_filtred.append(data_vc[j])\n",
    "    #print(len(data_vc_filtred))\n",
    "    data_vc=data_vc_filtred\n",
    "\n",
    "\n",
    "print('start vicon')\n",
    "line=0\n",
    "for i in data_vc:\n",
    "    line=line+1\n",
    "    tab_vc[str(float(line))]={}\n",
    "    for n in range(17):\n",
    "        first=i.split(' ')[7*n:7*(n+1)]\n",
    "        first1={str(n):[first[0],first[1],first[2],first[3],first[4],first[5],first[6]]}\n",
    "        tab_vc[str(float(line))].update(first1)\n",
    "\n",
    "openpose_coord_vc=tab1_vc"
   ]
  },
  {
   "cell_type": "code",
   "execution_count": 33,
   "id": "888401c0",
   "metadata": {
    "id": "888401c0"
   },
   "outputs": [],
   "source": [
    "#start Processing Skeletons Data \n",
    "\n",
    "result = cv2.VideoWriter('/root/Desktop/vcop.avi',  \n",
    "                         cv2.VideoWriter_fourcc(*'MJPG'), \n",
    "                         10, size)\n",
    "\n",
    "# Defining the skeletons pairs\n",
    "CocoPairs_kn = [\n",
    "    (0,1),(1,2),(2,3), (2,4),(4,5),(5,6),(6,7),(2,8),(8,9),(9,10),(10,11),(0,12),(12,13),(13,14),(14,15),(0,16),(16,17),(17,18),(18,19)]\n",
    "CocoPairsRender_kn = CocoPairs_kn[:-2]\n",
    "CocoPairs_vc=[(14,8),(14,7),(7,2),(8,3),(0,2),(1,3),(0,9),(1,10),(14,4),(4,13),(13,5),(13,6),(5,15),(6,16),(11,15),(12,16)]\n",
    "CocoPairsRender_vc=CocoPairs_vc"
   ]
  },
  {
   "cell_type": "code",
   "execution_count": 35,
   "id": "7ac3f36c",
   "metadata": {
    "colab": {
     "base_uri": "https://localhost:8080/",
     "height": 1000
    },
    "id": "7ac3f36c",
    "outputId": "992b0b2c-1d73-412f-df6c-c9026b248022"
   },
   "outputs": [
    {
     "name": "stdout",
     "output_type": "stream",
     "text": [
      "<class 'numpy.ndarray'>\n",
      "{'0': ['0.314218', '-0.552000'], '1': ['0.329507', '-0.317089'], '2': ['0.342402', '-0.085162'], '3': ['0.354231', '0.051321'], '4': ['0.173780', '-0.144985'], '5': ['0.093711', '-0.379156'], '6': ['0.043818', '-0.540883'], '7': ['0.033154', '-0.573384'], '8': ['0.497256', '-0.170934'], '9': ['0.530679', '-0.384866'], '10': ['0.475661', '-0.528745'], '11': ['0.463040', '-0.563915'], '12': ['0.233306', '-0.540649'], '13': ['0.066617', '-0.617924'], '14': ['0.088812', '-1.031402'], '15': ['0.053756', '-1.086641'], '16': ['0.388843', '-0.552662'], '17': ['0.455243', '-0.627377'], '18': ['0.457233', '-1.044688'], '19': ['0.482723', '-1.089851'], '20': ['0.339469', '-0.142756'], '21': ['0.010450', '-0.636154'], '22': ['0.008446', '-0.603280'], '23': ['0.432217', '-0.596971'], '24': ['0.400418', '-0.572324']}\n"
     ]
    },
    {
     "name": "stderr",
     "output_type": "stream",
     "text": [
      "<ipython-input-31-b4d5326f9c72>:39: DeprecationWarning: The binary mode of fromstring is deprecated, as it behaves surprisingly on unicode inputs. Use frombuffer instead\n",
      "  img = np.fromstring(fig.canvas.tostring_rgb(), dtype=np.uint8,sep='')\n"
     ]
    },
    {
     "ename": "NameError",
     "evalue": "name 'CocoPart' is not defined",
     "output_type": "error",
     "traceback": [
      "\u001b[1;31m---------------------------------------------------------------------------\u001b[0m",
      "\u001b[1;31mNameError\u001b[0m                                 Traceback (most recent call last)",
      "\u001b[1;32m<ipython-input-35-d9e5b89b8212>\u001b[0m in \u001b[0;36m<module>\u001b[1;34m\u001b[0m\n\u001b[0;32m     17\u001b[0m     \u001b[0mblack_image_op\u001b[0m \u001b[1;33m=\u001b[0m \u001b[0mnp\u001b[0m\u001b[1;33m.\u001b[0m\u001b[0mzeros\u001b[0m\u001b[1;33m(\u001b[0m\u001b[1;33m(\u001b[0m\u001b[0mheight\u001b[0m\u001b[1;33m,\u001b[0m\u001b[0mwidth\u001b[0m\u001b[1;33m,\u001b[0m\u001b[1;36m3\u001b[0m\u001b[1;33m)\u001b[0m\u001b[1;33m,\u001b[0m \u001b[0mnp\u001b[0m\u001b[1;33m.\u001b[0m\u001b[0muint8\u001b[0m\u001b[1;33m)\u001b[0m\u001b[1;33m\u001b[0m\u001b[1;33m\u001b[0m\u001b[0m\n\u001b[0;32m     18\u001b[0m     \u001b[0mprint\u001b[0m\u001b[1;33m(\u001b[0m\u001b[0msklt\u001b[0m\u001b[1;33m)\u001b[0m\u001b[1;33m\u001b[0m\u001b[1;33m\u001b[0m\u001b[0m\n\u001b[1;32m---> 19\u001b[1;33m     \u001b[0mframe_image\u001b[0m\u001b[1;33m=\u001b[0m\u001b[0mdraw_humans_kinect\u001b[0m\u001b[1;33m(\u001b[0m\u001b[0mblack_image_kn\u001b[0m\u001b[1;33m,\u001b[0m\u001b[0msklt\u001b[0m\u001b[1;33m)\u001b[0m\u001b[1;33m\u001b[0m\u001b[1;33m\u001b[0m\u001b[0m\n\u001b[0m\u001b[0;32m     20\u001b[0m     \u001b[0mframe_image\u001b[0m\u001b[1;33m=\u001b[0m\u001b[0mcv2\u001b[0m\u001b[1;33m.\u001b[0m\u001b[0mflip\u001b[0m\u001b[1;33m(\u001b[0m\u001b[0mframe_image\u001b[0m\u001b[1;33m,\u001b[0m \u001b[1;36m0\u001b[0m\u001b[1;33m)\u001b[0m\u001b[1;33m\u001b[0m\u001b[1;33m\u001b[0m\u001b[0m\n\u001b[0;32m     21\u001b[0m     \u001b[0mframe_image_kn\u001b[0m\u001b[1;33m=\u001b[0m\u001b[0mcv2\u001b[0m\u001b[1;33m.\u001b[0m\u001b[0mflip\u001b[0m\u001b[1;33m(\u001b[0m\u001b[0mframe_image\u001b[0m\u001b[1;33m,\u001b[0m \u001b[1;36m1\u001b[0m\u001b[1;33m)\u001b[0m \u001b[1;31m#symmetry\u001b[0m\u001b[1;33m\u001b[0m\u001b[1;33m\u001b[0m\u001b[0m\n",
      "\u001b[1;32m<ipython-input-30-4594204becb9>\u001b[0m in \u001b[0;36mdraw_humans_kinect\u001b[1;34m(npimg, humans)\u001b[0m\n\u001b[0;32m     10\u001b[0m \u001b[1;33m\u001b[0m\u001b[0m\n\u001b[0;32m     11\u001b[0m     \u001b[1;31m# draw point\u001b[0m\u001b[1;33m\u001b[0m\u001b[1;33m\u001b[0m\u001b[1;33m\u001b[0m\u001b[0m\n\u001b[1;32m---> 12\u001b[1;33m     \u001b[1;32mfor\u001b[0m \u001b[0mi\u001b[0m \u001b[1;32min\u001b[0m \u001b[0mrange\u001b[0m\u001b[1;33m(\u001b[0m\u001b[0mCocoPart\u001b[0m\u001b[1;33m.\u001b[0m\u001b[0mBackground\u001b[0m\u001b[1;33m.\u001b[0m\u001b[0mvalue\u001b[0m\u001b[1;33m)\u001b[0m\u001b[1;33m:\u001b[0m\u001b[1;33m\u001b[0m\u001b[1;33m\u001b[0m\u001b[0m\n\u001b[0m\u001b[0;32m     13\u001b[0m             \u001b[1;32mif\u001b[0m \u001b[0mi\u001b[0m \u001b[1;32mnot\u001b[0m \u001b[1;32min\u001b[0m \u001b[0mhuman_keys\u001b[0m\u001b[1;33m:\u001b[0m\u001b[1;33m\u001b[0m\u001b[1;33m\u001b[0m\u001b[0m\n\u001b[0;32m     14\u001b[0m                 \u001b[1;31m#print (i)\u001b[0m\u001b[1;33m\u001b[0m\u001b[1;33m\u001b[0m\u001b[1;33m\u001b[0m\u001b[0m\n",
      "\u001b[1;31mNameError\u001b[0m: name 'CocoPart' is not defined"
     ]
    },
    {
     "data": {
      "image/png": "[encoded data removed]",
      "text/plain": [
       "<Figure size 432x288 with 1 Axes>"
      ]
     },
     "metadata": {
      "needs_background": "light"
     },
     "output_type": "display_data"
    }
   ],
   "source": [
    "#Start plotting skeletons\n",
    "\n",
    "for i in range(1,len(openpose_coord_vc['positions'])-4):\n",
    "    #vicon\n",
    "    img_vc=draw_vicon_3d(i)\n",
    "    print(type(img_vc))\n",
    "    img_vc2=cv2.resize(img_vc, size, interpolation = cv2.INTER_AREA)\n",
    "    black_image_vc = np.zeros((height,width,3), np.uint8)\n",
    "    #print(openpose_coord_vc['positions'][str(float(i))].keys())\n",
    "    cv2.putText(img_vc2,\"Vicon Skeleton\", (int(width/8),50), cv2.FONT_HERSHEY_SIMPLEX, 1, (0, 0, 255))\n",
    "    \n",
    "    #kinect\n",
    "    black_image_kn = np.zeros((height,width,3), np.uint8)\n",
    "    #print(openpose_coord_kn['positions'][str(float(i))].keys())\n",
    "    #print(openpose_coord_kn['positions'][str(float(i))])\n",
    "    sklt=openpose_coord_kn['positions'][str(float(i))]\n",
    "    black_image_op = np.zeros((height,width,3), np.uint8)\n",
    "    print(sklt)\n",
    "    frame_image=draw_humans_kinect(black_image_kn,sklt)\n",
    "    frame_image=cv2.flip(frame_image, 0)\n",
    "    frame_image_kn=cv2.flip(frame_image, 1) #symmetry\n",
    "    cv2.putText(frame_image_kn,\"Kinect Skeleton\", (int(width/8),50), cv2.FONT_HERSHEY_SIMPLEX, 1, (0, 0, 255))\n",
    "    \n",
    "    #openpose\n",
    "    sklt=openpose_coord['positions'][str(float(i))]\n",
    "    frame_image_op=draw_humans_openpose(black_image_op,sklt)\n",
    "    frame_image_op=cv2.flip(frame_image_op, 1) #symmetry\n",
    "    cv2.putText(frame_image_op,\"Openpose Skeleton\", (int(width/8),50), cv2.FONT_HERSHEY_SIMPLEX, 1, (0, 0, 255))\n",
    "    glob=np.concatenate((frame_image_op,frame_image_kn,img_vc2), axis=1)\n",
    "    images.append(glob)\n",
    "    #cv2.imshow(\"Skeleton\",glob)\n",
    "    #result.write(glob)\n",
    "    #cv2.waitKey(300)"
   ]
  },
  {
   "cell_type": "code",
   "execution_count": null,
   "id": "Y7QMrmYwCUes",
   "metadata": {
    "id": "Y7QMrmYwCUes"
   },
   "outputs": [],
   "source": []
  },
  {
   "cell_type": "code",
   "execution_count": null,
   "id": "85d498f1",
   "metadata": {
    "colab": {
     "base_uri": "https://localhost:8080/",
     "height": 283
    },
    "id": "85d498f1",
    "outputId": "28d29eb7-1144-4868-9609-be17a975de7e"
   },
   "outputs": [],
   "source": [
    "from IPython.display import Image\n",
    "from numpngw import write_apng\n",
    "\n",
    "#imageio.mimsave('a2c.gif', [np.array(img) for i, img in enumerate(images) if i%2 == 0], fps=29)\n",
    "write_apng('outvideo.png', images, delay=60)\n",
    "Image(filename='outvideo.png')"
   ]
  }
 ],
 "metadata": {
  "colab": {
   "collapsed_sections": [],
   "name": "notebook_draw_sklt_vc2.ipynb",
   "provenance": []
  },
  "kernelspec": {
   "display_name": "Python 3",
   "language": "python",
   "name": "python3"
  },
  "language_info": {
   "codemirror_mode": {
    "name": "ipython",
    "version": 3
   },
   "file_extension": ".py",
   "mimetype": "text/x-python",
   "name": "python",
   "nbconvert_exporter": "python",
   "pygments_lexer": "ipython3",
   "version": "3.8.8"
  }
 },
 "nbformat": 4,
 "nbformat_minor": 5
}
